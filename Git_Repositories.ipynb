{
 "cells": [
  {
   "cell_type": "code",
   "execution_count": 1,
   "id": "0f7f6fff",
   "metadata": {},
   "outputs": [],
   "source": [
    "from selenium import webdriver\n",
    "from selenium.webdriver.common.by import By"
   ]
  },
  {
   "cell_type": "code",
   "execution_count": 2,
   "id": "fe984112",
   "metadata": {},
   "outputs": [],
   "source": [
    "url=\"https://github.com/login\""
   ]
  },
  {
   "cell_type": "code",
   "execution_count": 3,
   "id": "1070d894",
   "metadata": {},
   "outputs": [],
   "source": [
    "driver=webdriver.Chrome()\n"
   ]
  },
  {
   "cell_type": "code",
   "execution_count": 4,
   "id": "f7f47eb9",
   "metadata": {},
   "outputs": [],
   "source": [
    "driver.get(url)"
   ]
  },
  {
   "cell_type": "code",
   "execution_count": null,
   "id": "f3ca4eba",
   "metadata": {},
   "outputs": [],
   "source": [
    "username=input(\"Enter your github username : \")"
   ]
  },
  {
   "cell_type": "code",
   "execution_count": null,
   "id": "9e8f2a02",
   "metadata": {},
   "outputs": [],
   "source": [
    "password=input(\"Enter your github password : \")"
   ]
  },
  {
   "cell_type": "code",
   "execution_count": null,
   "id": "cc670950",
   "metadata": {},
   "outputs": [],
   "source": [
    "driver.find_element(\"id\",\"login_field\").send_keys(username)"
   ]
  },
  {
   "cell_type": "code",
   "execution_count": null,
   "id": "8ec96f86",
   "metadata": {},
   "outputs": [],
   "source": [
    "driver.find_element(\"id\",\"password\").send_keys(password)"
   ]
  },
  {
   "cell_type": "code",
   "execution_count": null,
   "id": "558c60dd",
   "metadata": {},
   "outputs": [],
   "source": [
    "driver.find_element(By.NAME, 'commit').click()"
   ]
  },
  {
   "cell_type": "code",
   "execution_count": null,
   "id": "fccb5424",
   "metadata": {},
   "outputs": [],
   "source": [
    "driver.find_element(By.XPATH,\"//a[contains(@class,'Button--primary Button--small Button')]\").click()"
   ]
  },
  {
   "cell_type": "code",
   "execution_count": null,
   "id": "84aaab49",
   "metadata": {},
   "outputs": [],
   "source": [
    "reponame=input(\"Enter the repository name: \")"
   ]
  },
  {
   "cell_type": "code",
   "execution_count": null,
   "id": "5018c2e2",
   "metadata": {},
   "outputs": [],
   "source": [
    "\n",
    "\n",
    "driver.find_element(\"id\",\"react-aria-2\").send_keys(reponame)"
   ]
  },
  {
   "cell_type": "code",
   "execution_count": null,
   "id": "6ede4dd3",
   "metadata": {},
   "outputs": [],
   "source": [
    "temp=input(\"Do you want to add description to your repository ?\")"
   ]
  },
  {
   "cell_type": "code",
   "execution_count": null,
   "id": "7c8a6eb7",
   "metadata": {},
   "outputs": [],
   "source": [
    "if (temp == \"Yes\" or temp == \"yes\" or temp == \"YES\"):\n",
    "    desc=input(\"Write the repository description : \")\n",
    "    driver.find_element(\"id\",\"react-aria-3\").send_keys(desc)\n",
    "    \n",
    "    \n"
   ]
  },
  {
   "cell_type": "code",
   "execution_count": null,
   "id": "26a09c82",
   "metadata": {},
   "outputs": [],
   "source": [
    "temp=input(\"Do you want to add README file to your repository ? \")\n",
    "if (temp == \"Yes\" or temp == \"yes\" or temp == \"YES\"):\n",
    "    checkbox_element = driver.find_element(By.ID, 'react-aria-8')\n",
    "\n",
    "    if not checkbox_element.is_selected():\n",
    "        checkbox_element.click()"
   ]
  },
  {
   "cell_type": "code",
   "execution_count": null,
   "id": "f1cb8e29",
   "metadata": {},
   "outputs": [],
   "source": [
    "temp3=input(\"Do you want your repository to public ?\")\n",
    "\n",
    "if (temp3.lower() != \"yes\"):\n",
    "    \n",
    "    checkbox_element = driver.find_element(By.ID, 'react-aria-6')\n",
    "    checkbox_element.click()\n"
   ]
  },
  {
   "cell_type": "code",
   "execution_count": null,
   "id": "cadb8576",
   "metadata": {},
   "outputs": [],
   "source": [
    "\n",
    "driver.find_element(By.XPATH,\"//button[contains(@class,'types__StyledButton-sc-ws60qy-0 bZiiSx')]\").click()"
   ]
  }
 ],
 "metadata": {
  "kernelspec": {
   "display_name": "Python 3 (ipykernel)",
   "language": "python",
   "name": "python3"
  },
  "language_info": {
   "codemirror_mode": {
    "name": "ipython",
    "version": 3
   },
   "file_extension": ".py",
   "mimetype": "text/x-python",
   "name": "python",
   "nbconvert_exporter": "python",
   "pygments_lexer": "ipython3",
   "version": "3.11.0"
  }
 },
 "nbformat": 4,
 "nbformat_minor": 5
}
